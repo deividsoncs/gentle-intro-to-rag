{
 "cells": [
  {
   "cell_type": "markdown",
   "metadata": {},
   "source": [
    "# A Gentle Introduction to RAG Applications\n",
    "\n",
    "This notebook creates a simple RAG (Retrieval-Augmented Generation) system to answer questions from a PDF document using an open-source model."
   ]
  },
  {
   "cell_type": "code",
   "execution_count": 1,
   "metadata": {},
   "outputs": [],
   "source": [
    "PDF_FILE = \"macunaima.pdf\"\n",
    "\n",
    "# We'll be using Llama 3.1 8B for this example.\n",
    "MODEL = \"llama3.1\""
   ]
  },
  {
   "cell_type": "markdown",
   "metadata": {},
   "source": [
    "## Loading the PDF document\n",
    "\n",
    "Let's start by loading the PDF document and breaking it down into separate pages.\n",
    "\n",
    "<img src='images/documents.png' width=\"1000\">"
   ]
  },
  {
   "cell_type": "code",
   "execution_count": 2,
   "metadata": {},
   "outputs": [
    {
     "name": "stdout",
     "output_type": "stream",
     "text": [
      "Number of pages: 8\n",
      "Length of a page: 1915\n",
      "Content of a page:  \n",
      "I  \n",
      "Macunaíma  \n",
      " \n",
      "No fundo do mato -virgem nasceu Macunaíma, herói de nossa \n",
      "gente. Era preto retinto e filho do medo da noite. Houve um momento \n",
      "em que o silênci o foi tão grande escutando o murmurejo do \n",
      "Uraricoera, que a índia, tapanhumas pariu uma criança feia. Essa \n",
      "criança é que chamaram de Macunaíma.  \n",
      "Já na meninice fez coisas de sarapantar. De primeiro: passou mais \n",
      "de seis anos não falando. Sio inci tavam a fal ar exclamava: If — Ai! \n",
      "que preguiça!. . . e não dizia mais nada.\"] Ficava no canto da ma loca, \n",
      "trepado no jirau de paxiúba, espiando o trabalho dos outros e \n",
      "principalmente os dois manos que tinha, Maanape já velhinho e Jiguê \n",
      "na força de homem. O divertimen to dele era decepar cabeça de saúva. \n",
      "Vivia deitado mas si punha os olhos em dinheiro, Macunaí ma dandava \n",
      "pra ganhar vintém. E também espertava quando a família ia tomar \n",
      "banho no rio, todos juntos e nus. Passava o tempo do banho dando \n",
      "mergulho, e as mulhere s soltavam gritos gozados por causa dos  \n",
      "guaimuns diz -que habitando a água -doce por lá. No mucambo si \n",
      "alguma cunhatã se aproximava dele pra fazer festinha, Macunaíma \n",
      "punha a mão nas graças dela, cunhatã se afastava. Nos machos guspia \n",
      "na cara. Porém respeit ava os velhos, e freqüentava com aplica ção a \n",
      "murua a poracê o torê o bacorocô a cucuicogue, todas essas danças \n",
      "religiosas da tribo.  \n",
      "Quando era pra dormir trepava no macuru pequeninho sempre se \n",
      "esquecendo de mijar. Como a rede da mãe estava por debaixo do \n",
      "berço, o herói mijava quen te na velha, espantando os mosquitos bem. \n",
      "Então  adormecia sonhando palavras -feias, imoralidades estrambólicas \n",
      "e dava patadas no ar.  \n",
      "Nas conversas das mulheres no pino do dia o as sunto eram sempre \n",
      "as peraltagens do herói. As mulh eres se riam muito simpatizadas, \n",
      "falando que \"espinho que pinica, de pequeno já traz ponta\", e numa \n",
      "pagelança Rei Nagô fez um discurso e avisou que o herói era \n",
      "inteligente.  \n"
     ]
    }
   ],
   "source": [
    "from langchain_community.document_loaders import PyPDFLoader\n",
    "\n",
    "loader = PyPDFLoader(PDF_FILE)\n",
    "pages = loader.load()\n",
    "\n",
    "pages = pages[:8]\n",
    "\n",
    "print(f\"Number of pages: {len(pages)}\")\n",
    "print(f\"Length of a page: {len(pages[1].page_content)}\")\n",
    "print(\"Content of a page:\", pages[1].page_content)"
   ]
  },
  {
   "cell_type": "markdown",
   "metadata": {},
   "source": [
    "## Splitting the pages in chunks\n",
    "\n",
    "Pages are too long, so let's split pages into different chunks.\n",
    "\n",
    "<img src='images/splitter.png' width=\"1000\">\n"
   ]
  },
  {
   "cell_type": "code",
   "execution_count": 4,
   "metadata": {},
   "outputs": [
    {
     "name": "stdout",
     "output_type": "stream",
     "text": [
      "Number of chunks: 8\n",
      "Length of a chunk: 1911\n",
      "Content of a chunk: I  \n",
      "Macunaíma  \n",
      " \n",
      "No fundo do mato -virgem nasceu Macunaíma, herói de nossa \n",
      "gente. Era preto retinto e filho do medo da noite. Houve um momento \n",
      "em que o silênci o foi tão grande escutando o murmurejo do \n",
      "Uraricoera, que a índia, tapanhumas pariu uma criança feia. Essa \n",
      "criança é que chamaram de Macunaíma.  \n",
      "Já na meninice fez coisas de sarapantar. De primeiro: passou mais \n",
      "de seis anos não falando. Sio inci tavam a fal ar exclamava: If — Ai! \n",
      "que preguiça!. . . e não dizia mais nada.\"] Ficava no canto da ma loca, \n",
      "trepado no jirau de paxiúba, espiando o trabalho dos outros e \n",
      "principalmente os dois manos que tinha, Maanape já velhinho e Jiguê \n",
      "na força de homem. O divertimen to dele era decepar cabeça de saúva. \n",
      "Vivia deitado mas si punha os olhos em dinheiro, Macunaí ma dandava \n",
      "pra ganhar vintém. E também espertava quando a família ia tomar \n",
      "banho no rio, todos juntos e nus. Passava o tempo do banho dando \n",
      "mergulho, e as mulhere s soltavam gritos gozados por causa dos  \n",
      "guaimuns diz -que habitando a água -doce por lá. No mucambo si \n",
      "alguma cunhatã se aproximava dele pra fazer festinha, Macunaíma \n",
      "punha a mão nas graças dela, cunhatã se afastava. Nos machos guspia \n",
      "na cara. Porém respeit ava os velhos, e freqüentava com aplica ção a \n",
      "murua a poracê o torê o bacorocô a cucuicogue, todas essas danças \n",
      "religiosas da tribo.  \n",
      "Quando era pra dormir trepava no macuru pequeninho sempre se \n",
      "esquecendo de mijar. Como a rede da mãe estava por debaixo do \n",
      "berço, o herói mijava quen te na velha, espantando os mosquitos bem. \n",
      "Então  adormecia sonhando palavras -feias, imoralidades estrambólicas \n",
      "e dava patadas no ar.  \n",
      "Nas conversas das mulheres no pino do dia o as sunto eram sempre \n",
      "as peraltagens do herói. As mulh eres se riam muito simpatizadas, \n",
      "falando que \"espinho que pinica, de pequeno já traz ponta\", e numa \n",
      "pagelança Rei Nagô fez um discurso e avisou que o herói era \n",
      "inteligente.\n"
     ]
    }
   ],
   "source": [
    "from langchain_text_splitters import RecursiveCharacterTextSplitter\n",
    "\n",
    "splitter = RecursiveCharacterTextSplitter(chunk_size=2500, chunk_overlap=300)\n",
    "\n",
    "chunks = splitter.split_documents(pages)\n",
    "print(f\"Number of chunks: {len(chunks)}\")\n",
    "print(f\"Length of a chunk: {len(chunks[1].page_content)}\")\n",
    "print(\"Content of a chunk:\", chunks[1].page_content)\n"
   ]
  },
  {
   "cell_type": "markdown",
   "metadata": {},
   "source": [
    "## Storing the chunks in a vector store\n",
    "\n",
    "We can now generate embeddings for every chunk and store them in a vector store.\n",
    "\n",
    "<img src='images/vectorstore.png' width=\"1000\">\n"
   ]
  },
  {
   "cell_type": "code",
   "execution_count": 5,
   "metadata": {},
   "outputs": [],
   "source": [
    "from langchain_community.vectorstores import FAISS\n",
    "from langchain_community.embeddings import OllamaEmbeddings\n",
    "\n",
    "embeddings = OllamaEmbeddings(model=MODEL)\n",
    "vectorstore = FAISS.from_documents(chunks, embeddings)"
   ]
  },
  {
   "cell_type": "markdown",
   "metadata": {},
   "source": [
    "## Setting up a retriever\n",
    "\n",
    "We can use a retriever to find chunks in the vector store that are similar to a supplied question.\n",
    "\n",
    "<img src='images/retriever.png' width=\"1000\">\n",
    "\n"
   ]
  },
  {
   "cell_type": "code",
   "execution_count": 6,
   "metadata": {},
   "outputs": [
    {
     "data": {
      "text/plain": [
       "[Document(metadata={'source': 'macunaima.pdf', 'page': 5}, page_content='Quando Jiguê não pôde mais surrar, Macunaíma correu até a \\ncapoeira, mastigou  raiz de cardeiro e vol tou são.  Jiguê levou Sofará \\npro pai dela e dormiu fol gado na  rede.'),\n",
       " Document(metadata={'source': 'macunaima.pdf', 'page': 1}, page_content='I  \\nMacunaíma  \\n \\nNo fundo do mato -virgem nasceu Macunaíma, herói de nossa \\ngente. Era preto retinto e filho do medo da noite. Houve um momento \\nem que o silênci o foi tão grande escutando o murmurejo do \\nUraricoera, que a índia, tapanhumas pariu uma criança feia. Essa \\ncriança é que chamaram de Macunaíma.  \\nJá na meninice fez coisas de sarapantar. De primeiro: passou mais \\nde seis anos não falando. Sio inci tavam a fal ar exclamava: If — Ai! \\nque preguiça!. . . e não dizia mais nada.\"] Ficava no canto da ma loca, \\ntrepado no jirau de paxiúba, espiando o trabalho dos outros e \\nprincipalmente os dois manos que tinha, Maanape já velhinho e Jiguê \\nna força de homem. O divertimen to dele era decepar cabeça de saúva. \\nVivia deitado mas si punha os olhos em dinheiro, Macunaí ma dandava \\npra ganhar vintém. E também espertava quando a família ia tomar \\nbanho no rio, todos juntos e nus. Passava o tempo do banho dando \\nmergulho, e as mulhere s soltavam gritos gozados por causa dos  \\nguaimuns diz -que habitando a água -doce por lá. No mucambo si \\nalguma cunhatã se aproximava dele pra fazer festinha, Macunaíma \\npunha a mão nas graças dela, cunhatã se afastava. Nos machos guspia \\nna cara. Porém respeit ava os velhos, e freqüentava com aplica ção a \\nmurua a poracê o torê o bacorocô a cucuicogue, todas essas danças \\nreligiosas da tribo.  \\nQuando era pra dormir trepava no macuru pequeninho sempre se \\nesquecendo de mijar. Como a rede da mãe estava por debaixo do \\nberço, o herói mijava quen te na velha, espantando os mosquitos bem. \\nEntão  adormecia sonhando palavras -feias, imoralidades estrambólicas \\ne dava patadas no ar.  \\nNas conversas das mulheres no pino do dia o as sunto eram sempre \\nas peraltagens do herói. As mulh eres se riam muito simpatizadas, \\nfalando que \"espinho que pinica, de pequeno já traz ponta\", e numa \\npagelança Rei Nagô fez um discurso e avisou que o herói era \\ninteligente.'),\n",
       " Document(metadata={'source': 'macunaima.pdf', 'page': 4}, page_content='correram mato fora fazendo festinhas um pro outro. Depois das \\nfestinhas de cotucar, fizeram a das cócegas, depois se enterraram na \\nareia, depois se queimaram com fogo  de palha, isso foram muitas \\nfestinhas. Macunaíma pe gou num tronco de copaíba e se escondeu por \\ndetrás, da piranheira. Quando Sofará veio correndo, ele deu com o pau \\nna cabeça dela. Fez uma brecha que a mo ça caiu torcendo de riso aos \\npés dele. Puxou -o po r uma perna. Macunaíma gemia de gosto se \\nagarrando no tronco gigante. Então a moça abocanhou o dedão do pé \\ndele e engoliu. Macunaíma chorando de alegria tatuou o corpo del a \\ncom o sangue do pé. Depois re tesou os músculos, se erguendo num \\ntrapézio de cipó e aos pulos atingiu num átimo o galho mais alto da \\npiranheira. Sofará trepava atrás. O ramo fininho ver gou oscilando com \\no peso do príncipe. Quando a moça chegou também no tope eles \\nbrincaram outra vez ba lanceando no céu. Depois de brincarem \\nMacunaíma quis  fazer uma festa em Sofará. Dobrou o corpo todo na \\nviolência dum puxão mas não pôde continuar, ga lho quebrou e ambos \\ndespencaram aos emboléus até se esborracharem no chão. Quando o \\nherói voltou da sapituca procurou a moça em redor, não estava. Ia se \\nergue ndo pra buscá -la porém do galho baixo em riba dele furou o \\nsilêncio o miado temível da suçuarana. O herói se estatelou de medo e \\nfechou os olhos pra ser comido sem ver. Então se escutou um risinho e \\nMacunaíma tomou com uma gusparada no peito, era a moça. \\nMacunaíma principiou atirando pedras nela e quando feria, Sofará \\ngritava de excitação tatuando o corpo dele em baixo com o sangue \\nespirrado. Afinal uma pedra lascou o canto da boca da moça e moeu \\ntrês dentes. Ela pulou do galho e juque! tombou sen tada na barriga do \\nherói que a envolveu com o corpo todo, uivando de prazer. E \\nbrincaram mais outra vez.  \\nJá a estrela Papacéia brilhava no céu quando a moça voltou \\nparecendo muito fatigada de tanto car regar piá nas costas. Porém \\nJiguê desconfiado se guira os doi s no mato, enxergara a transformação \\ne o resto. Jiguê era muito bobo. Teve raiva. Pegou num rabo -de-tatu e \\nchegou -o com vontade na bunda do he rói. O berreiro foi tão imenso \\nque encurtou o tamanhão da noite e muitos pássaros caíram de susto \\nno chão e se tr ansformaram em pedra.'),\n",
       " Document(metadata={'source': 'macunaima.pdf', 'page': 2}, page_content='Nem bem teve seis anos deram água num choca lho pra ele e \\nMacunaíma principiou fal ando como to dos. E pediu pra mãe que \\nlargasse da mandioca ra lando na cevadeira e levasse ele passear no \\nmato. A mãe não quis porque não podia largar da mandioca não. \\nMacunaíma choramingou dia inteiro. De  noite conti nuou chorando. \\nNo outro dia esperou com o olho es querdo dormindo que a mãe \\nprincipiasse o trabalho. Então pediu pra ela que largasse de tecer o \\npaneiro de guarumá -membeca e levasse ele no mato passear. A mãe \\nnão quis porque não podia largar o paneiro não.  E pediu pra nora, \\ncompanheira de Jiguê que levasse o menino. A companheira de Jiguê \\nera bem moça e cha mava Sofará. Foi se aproximando ressabiada \\nporém desta vez Macunaíma ficou muito quieto sem botar a mão na \\ngraça de ninguém. A moça carregou o piá nas c ostas e foi até o pé de \\naninga na beira do rio. A água parará pra inventar um ponteio de gozo \\nnas folhas do javari. O longe estava bonito com muitos biguás e \\nbiguatingas avoando na estrada do furo. A moça botou  Macunaíma na \\npraia porém ele principiou chora mingando, que tinha muita formiga!... \\ne pediu pra So fará que o levasse até o derrame do morro lá dentro do \\nmato, a moça fez. Mas assim que deitou o curu mim nas tiriricas, tajás \\ne trapoerabas da serrapilheira, ele botou corpo num átimo e ficou um \\npríncip e lindo. Andaram por lá muito.  \\nQuando voltaram pra maloca a moça parecia mui to fatigada de \\ntanto carregar piá nas costas. Era que o herói tinha brincado muito \\ncom ela. Nem bem ela deitou Macunaíma na rede, Ji guê já chegava de \\npescar de pu çá e a companhei ra não trabalhara nada. Ji guê enqui zlou e \\ndepois de catar os carrapatos deu nela muito. Sofará agüentou a sova \\nsem falar um isto.  \\nJiguê não desconfiou de nada e começou trançan do corda com \\nfibra de curauá. Não vê que encontrara rasto fresco de anta e que ria \\npegar o bicho na arma dilha. Macunaíma pediu um pedaço de curauá \\npro ma no porém Jiguê falou que aquilo não era brinquedo de criança. \\nMacunaíma principiou chorando outra vez e a noite ficou bem difícil \\nde passar pra todos.  \\nNo outro dia Jiguê levantou c edo pra fazer arma -ilha e enxergando \\no menino tristinho falou:  \\n— Bom -dia, coraçãozinho dos outros.')]"
      ]
     },
     "execution_count": 6,
     "metadata": {},
     "output_type": "execute_result"
    }
   ],
   "source": [
    "retriever = vectorstore.as_retriever()\n",
    "retriever.invoke(\"Quem é Macunaíma?\")"
   ]
  },
  {
   "cell_type": "markdown",
   "metadata": {},
   "source": [
    "## Configuring the model\n",
    "\n",
    "We'll be using Ollama to load the local model in memory. After creating the model, we can invoke it with a question to get the response back.\n",
    "\n",
    "<img src='images/model.png' width=\"1000\">"
   ]
  },
  {
   "cell_type": "code",
   "execution_count": 7,
   "metadata": {},
   "outputs": [
    {
     "data": {
      "text/plain": [
       "AIMessage(content='Pedro Álvares Cabral foi um navegador português que liderou uma expedição que descobriu o Brasil em 1500.', response_metadata={'model': 'llama3.1', 'created_at': '2024-09-06T14:00:01.8449084Z', 'message': {'role': 'assistant', 'content': ''}, 'done_reason': 'stop', 'done': True, 'total_duration': 9897712900, 'load_duration': 45848100, 'prompt_eval_count': 20, 'prompt_eval_duration': 1324277000, 'eval_count': 33, 'eval_duration': 8523105000}, id='run-2e1f162c-7aed-424b-88d3-b93b03c8ba0f-0', usage_metadata={'input_tokens': 20, 'output_tokens': 33, 'total_tokens': 53})"
      ]
     },
     "execution_count": 7,
     "metadata": {},
     "output_type": "execute_result"
    }
   ],
   "source": [
    "from langchain_ollama import ChatOllama\n",
    "\n",
    "model = ChatOllama(model=MODEL, temperature=0)\n",
    "model.invoke(\"Quem foi Pedro Alvares Cabral?\")"
   ]
  },
  {
   "cell_type": "markdown",
   "metadata": {},
   "source": [
    "## Parsing the model's response\n",
    "\n",
    "The response from the model is an `AIMessage` instance containing the answer. We can extract the text answer by using the appropriate output parser. We can connect the model and the parser using a chain.\n",
    "\n",
    "<img src='images/parser.png' width=\"1000\">\n"
   ]
  },
  {
   "cell_type": "code",
   "execution_count": 8,
   "metadata": {},
   "outputs": [
    {
     "name": "stdout",
     "output_type": "stream",
     "text": [
      "Em 1963, o presidente do Brasil era João Goulart.\n"
     ]
    }
   ],
   "source": [
    "from langchain_core.output_parsers import StrOutputParser\n",
    "\n",
    "parser = StrOutputParser()\n",
    "\n",
    "chain = model | parser \n",
    "print(chain.invoke(\"Quem foi o presidente do Brasil em 1963\"))"
   ]
  },
  {
   "cell_type": "markdown",
   "metadata": {},
   "source": [
    "## Setting up a prompt\n",
    "\n",
    "In addition to the question we want to ask, we also want to provide the model with the context from the PDF file. We can use a prompt template to define and reuse the prompt we'll use with the model.\n",
    "\n",
    "\n",
    "<img src='images/prompt.png' width=\"1000\">"
   ]
  },
  {
   "cell_type": "code",
   "execution_count": 10,
   "metadata": {},
   "outputs": [
    {
     "name": "stdout",
     "output_type": "stream",
     "text": [
      "\n",
      "You are an assistant that provides answers to questions based on\n",
      "a given context. \n",
      "\n",
      "Answer the question based on the context. If you can't answer the\n",
      "question, reply \"I don't know\".\n",
      "\n",
      "Be as concise as possible and go straight to the point.\n",
      "\n",
      "Context: O contexto será interpolado aqui\n",
      "\n",
      "Question: Aqui será interpolada a questão\n",
      "\n"
     ]
    }
   ],
   "source": [
    "from langchain.prompts import PromptTemplate\n",
    "\n",
    "template = \"\"\"\n",
    "You are an assistant that provides answers to questions based on\n",
    "a given context. \n",
    "\n",
    "Answer the question based on the context. If you can't answer the\n",
    "question, reply \"Desculpe. Eu não sei!\".\n",
    "\n",
    "Be as concise as possible and go straight to the point.\n",
    "\n",
    "Context: {context}\n",
    "\n",
    "Question: {question}\n",
    "\"\"\"\n",
    "\n",
    "prompt = PromptTemplate.from_template(template)\n",
    "print(prompt.format(context=\"O contexto será interpolado aqui\", question=\"Aqui será interpolada a questão\"))"
   ]
  },
  {
   "cell_type": "markdown",
   "metadata": {},
   "source": [
    "## Adding the prompt to the chain\n",
    "\n",
    "We can now chain the prompt with the model and the parser.\n",
    "\n",
    "<img src='images/chain1.png' width=\"1000\">"
   ]
  },
  {
   "cell_type": "code",
   "execution_count": 11,
   "metadata": {},
   "outputs": [
    {
     "data": {
      "text/plain": [
       "'Tio.'"
      ]
     },
     "execution_count": 11,
     "metadata": {},
     "output_type": "execute_result"
    }
   ],
   "source": [
    "chain = prompt | model | parser\n",
    "\n",
    "chain.invoke({\n",
    "    \"context\": \"João é filho de Paulo, Paulo é irmão de Fernando, Fernando possui dois filhos: Dudu e Carina. \", \n",
    "    \"question\": \"O que João é de Carina?\"\n",
    "})\n"
   ]
  },
  {
   "cell_type": "markdown",
   "metadata": {},
   "source": [
    "## Adding the retriever to the chain\n",
    "\n",
    "Finally, we can connect the retriever to the chain to get the context from the vector store.\n",
    "\n",
    "<img src='images/chain2.png' width=\"1000\">"
   ]
  },
  {
   "cell_type": "code",
   "execution_count": 12,
   "metadata": {},
   "outputs": [],
   "source": [
    "from operator import itemgetter\n",
    "\n",
    "chain = (\n",
    "    {\n",
    "        \"context\": itemgetter(\"question\") | retriever,\n",
    "        \"question\": itemgetter(\"question\"),\n",
    "    }\n",
    "    | prompt\n",
    "    | model\n",
    "    | parser\n",
    ")"
   ]
  },
  {
   "cell_type": "markdown",
   "metadata": {},
   "source": [
    "## Using the chain to answer questions\n",
    "\n",
    "Finally, we can use the chain to ask questions that will be answered using the PDF document."
   ]
  },
  {
   "cell_type": "code",
   "execution_count": 16,
   "metadata": {},
   "outputs": [
    {
     "name": "stdout",
     "output_type": "stream",
     "text": [
      "Question: Em algum momento macunaíma chorou? Se sim pode me citar estes momentos.\n",
      "Answer: Sim, Macunaíma chorou em alguns momentos. Aqui estão os momentos em que ele chorou:\n",
      "\n",
      "1.  Quando a mãe dele não quis largar da mandioca para levá-lo passear no mato. Ele chorou dia inteiro e também à noite.\n",
      "2.  Quando pediu pra nora, companheira de Jiguê, que levasse o menino, mas ela foi até o pé de aninga na beira do rio e ele ficou triste porque tinha muita formiga!\n",
      "3.  Quando a moça botou Macunaíma na praia, ele principiou choramingando.\n",
      "4.  Quando Jiguê não desconfiou de nada e começou trançando corda com fibra de curauá, Macunaíma pediu um pedaço de curauá pro ma no porém Jiguê falou que aquilo não era brinquedo de criança.\n",
      "*************************\n",
      "\n"
     ]
    }
   ],
   "source": [
    "questions = [    \n",
    "    \"Em algum momento macunaíma chorou? Se sim pode me citar estes momentos.\",    \n",
    "]\n",
    "\n",
    "for question in questions:\n",
    "    print(f\"Question: {question}\")\n",
    "    print(f\"Answer: {chain.invoke({'question': question})}\")\n",
    "    print(\"*************************\\n\")"
   ]
  },
  {
   "cell_type": "code",
   "execution_count": null,
   "metadata": {},
   "outputs": [],
   "source": []
  }
 ],
 "metadata": {
  "kernelspec": {
   "display_name": ".venv",
   "language": "python",
   "name": "python3"
  },
  "language_info": {
   "codemirror_mode": {
    "name": "ipython",
    "version": 3
   },
   "file_extension": ".py",
   "mimetype": "text/x-python",
   "name": "python",
   "nbconvert_exporter": "python",
   "pygments_lexer": "ipython3",
   "version": "3.12.5"
  }
 },
 "nbformat": 4,
 "nbformat_minor": 2
}
